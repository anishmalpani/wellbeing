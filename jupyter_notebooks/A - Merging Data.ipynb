{
 "cells": [
  {
   "cell_type": "markdown",
   "metadata": {},
   "source": [
    "# Wellbeing Dashboard Python\n",
    "## A - Merging Data\n",
    "This Jupyter Notebook takes data from seven different data sets and merges it together for further imputation"
   ]
  },
  {
   "cell_type": "code",
   "execution_count": null,
   "metadata": {},
   "outputs": [],
   "source": [
    "# Doing all major library imports\n",
    "import matplotlib.pyplot as plt\n",
    "import scikitplot as skplt\n",
    "import numpy as np\n",
    "import pandas as pd\n",
    "import seaborn as sns\n",
    "import scipy.stats as stats\n",
    "import re\n",
    "\n",
    "from sklearn import datasets, metrics\n",
    "from sklearn.linear_model import LinearRegression, LogisticRegression,LogisticRegressionCV \n",
    "from sklearn.model_selection import train_test_split, cross_val_score, cross_val_predict, KFold\n",
    "from sklearn.metrics import r2_score, mean_squared_error\n",
    "from sklearn.preprocessing import PolynomialFeatures, StandardScaler\n",
    "from sklearn.linear_model import Ridge, Lasso, ElasticNet, LinearRegression, RidgeCV, LassoCV, ElasticNetCV\n",
    "from sklearn.metrics import classification_report, confusion_matrix\n",
    "from sklearn.metrics import roc_curve, auc, precision_recall_curve, average_precision_score\n",
    "from matplotlib.colors import ListedColormap\n",
    "from sklearn.pipeline import Pipeline, make_pipeline\n",
    "\n",
    "plt.style.use('fivethirtyeight')\n",
    "\n",
    "%matplotlib inline\n",
    "%config InlineBackend.figure_format = 'retina'\n",
    "\n",
    "import scikitplot as skplt\n",
    "from matplotlib.colors import ListedColormap\n",
    "from sklearn.metrics import classification_report, confusion_matrix\n",
    "\n",
    "pd.set_option('display.max_rows', 500)\n",
    "pd.set_option('display.max_columns', 500)\n",
    "pd.options.display.float_format = '{:.2f}'.format\n",
    "\n",
    "# World Bank as its own data wrapper so leveraging that\n",
    "import wbdata as wb\n",
    "import requests"
   ]
  },
  {
   "cell_type": "markdown",
   "metadata": {},
   "source": [
    "**Process & Structure:**\n",
    "\n",
    "1) All data was collected from various sources (7 - see 'raw_data' folder).\n",
    "\n",
    "2) Each dataset was cleaned in Python or Excel and converted to a CSV.\n",
    "\n",
    "3) The CSVs were merged in this sheet on Country Code and Date to create a master data set for modeling purposes.\n"
   ]
  },
  {
   "cell_type": "code",
   "execution_count": null,
   "metadata": {},
   "outputs": [],
   "source": [
    "# Starting with UNDP data\n",
    "undp = pd.read_csv ('../raw_data/undp_dataset/undp_output.csv')\n",
    "print (undp.shape)\n",
    "undp.head()"
   ]
  },
  {
   "cell_type": "code",
   "execution_count": null,
   "metadata": {},
   "outputs": [],
   "source": [
    "# Merging in WorldBank data\n",
    "worldbank = pd.read_csv ('../raw_data/wb_dataset/wb_output.csv')\n",
    "print (worldbank.shape)\n",
    "worldbank.head()"
   ]
  },
  {
   "cell_type": "code",
   "execution_count": null,
   "metadata": {},
   "outputs": [],
   "source": [
    "master = pd.merge (undp, worldbank, how = 'left', on = ['country_code', 'date'])\n",
    "print (master.shape)\n",
    "master.head()"
   ]
  },
  {
   "cell_type": "code",
   "execution_count": null,
   "metadata": {},
   "outputs": [],
   "source": [
    "# Merging in IMF data\n",
    "imf = pd.read_csv ('../raw_data/imf_dataset/imf_2019_output.csv')\n",
    "print (imf.shape)\n",
    "imf.head()"
   ]
  },
  {
   "cell_type": "code",
   "execution_count": null,
   "metadata": {},
   "outputs": [],
   "source": [
    "master = pd.merge (master, imf, how = 'left', on = ['country_code', 'date'])\n",
    "print (master.shape)\n",
    "master.head()"
   ]
  },
  {
   "cell_type": "code",
   "execution_count": null,
   "metadata": {},
   "outputs": [],
   "source": [
    "# Merging in High Income Low Income CLassification data\n",
    "\n",
    "hili = pd.read_csv ('../raw_data/high_income_low_income_dataset/high_inc_low_inc_class_output.csv')\n",
    "print (hili.shape)\n",
    "hili.head()"
   ]
  },
  {
   "cell_type": "code",
   "execution_count": null,
   "metadata": {},
   "outputs": [],
   "source": [
    "master = pd.merge (master, hili, how = 'left', on = ['country_code', 'date'])\n",
    "print (master.shape)\n",
    "master.head()"
   ]
  },
  {
   "cell_type": "code",
   "execution_count": null,
   "metadata": {},
   "outputs": [],
   "source": [
    "#Adding IMF's Export Quality data set\n",
    "eq = pd.read_csv ('../raw_data/imf_dataset/eq_imf_output.csv')\n",
    "print (eq.shape)\n",
    "eq.head()"
   ]
  },
  {
   "cell_type": "code",
   "execution_count": null,
   "metadata": {},
   "outputs": [],
   "source": [
    "master = pd.merge (master, eq, how = 'left', on = ['country_code', 'date'])\n",
    "print (master.shape)\n",
    "master.head()"
   ]
  },
  {
   "cell_type": "code",
   "execution_count": null,
   "metadata": {},
   "outputs": [],
   "source": [
    "#Adding IMF's Government Revenue dataset\n",
    "gr = pd.read_csv ('../raw_data/imf_dataset/gov_rev_imf_output.csv')\n",
    "print (gr.shape)\n",
    "gr.head()"
   ]
  },
  {
   "cell_type": "code",
   "execution_count": null,
   "metadata": {},
   "outputs": [],
   "source": [
    "master = pd.merge (master, gr, how = 'left', on = ['country_code', 'date'])\n",
    "print (master.shape)\n",
    "master.head()"
   ]
  },
  {
   "cell_type": "code",
   "execution_count": null,
   "metadata": {},
   "outputs": [],
   "source": [
    "#Adding Global Hunger Index\n",
    "gh = pd.read_csv ('../raw_data/hunger_dataset/hunger_index_output.csv')\n",
    "print (gh.shape)\n",
    "gh.head()"
   ]
  },
  {
   "cell_type": "code",
   "execution_count": null,
   "metadata": {},
   "outputs": [],
   "source": [
    "master = pd.merge (master, gh, how = 'left', on = ['country_code', 'date'])\n",
    "print (master.shape)\n",
    "master.head()"
   ]
  },
  {
   "cell_type": "code",
   "execution_count": null,
   "metadata": {},
   "outputs": [],
   "source": [
    "#Adding Corruption Index\n",
    "cpi = pd.read_csv ('../raw_data/corruption_dataset/corruption_index_output.csv')\n",
    "print (cpi.shape)\n",
    "cpi.head()"
   ]
  },
  {
   "cell_type": "code",
   "execution_count": null,
   "metadata": {},
   "outputs": [],
   "source": [
    "master = pd.merge (master, cpi, how = 'left', on = ['country_code', 'date'])\n",
    "print (master.shape)\n",
    "master.head()"
   ]
  },
  {
   "cell_type": "code",
   "execution_count": null,
   "metadata": {},
   "outputs": [],
   "source": [
    "#Adding compilied UN Data\n",
    "un = pd.read_csv ('../raw_data/un_dataset/un_compiled_output.csv')\n",
    "print (un.shape)\n",
    "un.head()"
   ]
  },
  {
   "cell_type": "code",
   "execution_count": null,
   "metadata": {},
   "outputs": [],
   "source": [
    "master = pd.merge (master, un, how = 'left', on = ['country_code', 'date'])\n",
    "print (master.shape)\n",
    "master.head()"
   ]
  },
  {
   "cell_type": "code",
   "execution_count": null,
   "metadata": {},
   "outputs": [],
   "source": [
    "# Marking null values\n",
    "master.replace (0,np.nan, inplace=True)\n",
    "master.isnull().sum()"
   ]
  },
  {
   "cell_type": "code",
   "execution_count": null,
   "metadata": {},
   "outputs": [],
   "source": [
    "# Creating a separate list of just variables or 'predictors'\n",
    "predictors = list(master.columns)[3:]\n",
    "predictors [:10]"
   ]
  },
  {
   "cell_type": "code",
   "execution_count": null,
   "metadata": {},
   "outputs": [],
   "source": [
    "# Sorting list of predictors for easy reading\n",
    "predictors.sort()\n",
    "predictors [:10]"
   ]
  },
  {
   "cell_type": "code",
   "execution_count": null,
   "metadata": {},
   "outputs": [],
   "source": [
    "# Removing any duplicate predictors\n",
    "predictors_nod = list(set(predictors))\n",
    "predictors_nod.sort()\n",
    "predictors_nod[:10]"
   ]
  },
  {
   "cell_type": "code",
   "execution_count": null,
   "metadata": {},
   "outputs": [],
   "source": [
    "# Adjusting the dataframe to ensure everything is in order\n",
    "new_cols = ['country_code', 'country_x', 'date'] + predictors_nod\n",
    "master = master[new_cols]\n",
    "master.head()"
   ]
  },
  {
   "cell_type": "code",
   "execution_count": null,
   "metadata": {},
   "outputs": [],
   "source": [
    "# Dropping columns that are not needed / superfluous\n",
    "master.drop(columns=[\n",
    "    'country',\n",
    "    'country_y',\n",
    "    'WEO Country Code',\n",
    "    'Country Name_x',\n",
    "    'Country Name_y',\n",
    "    'Country_x',\n",
    "    'Country_x',\n",
    "    'Country_y',\n",
    "    'Country_y'\n",
    "], inplace=True)\n",
    "\n",
    "print (master.shape)\n",
    "master.head()"
   ]
  },
  {
   "cell_type": "code",
   "execution_count": null,
   "metadata": {},
   "outputs": [],
   "source": [
    "# Renaming columns appropriately\n",
    "master.columns = ['country_code', 'country', 'date'] + list(master.columns)[3:]\n",
    "print (master.shape)\n",
    "master.head()"
   ]
  },
  {
   "cell_type": "code",
   "execution_count": null,
   "metadata": {},
   "outputs": [],
   "source": [
    "# Exporting data for modeling and cleaning purposes\n",
    "master.to_csv ('../raw_data/poverty_data.csv', index= False)"
   ]
  }
 ],
 "metadata": {
  "kernelspec": {
   "display_name": "Python 3",
   "language": "python",
   "name": "python3"
  },
  "language_info": {
   "codemirror_mode": {
    "name": "ipython",
    "version": 3
   },
   "file_extension": ".py",
   "mimetype": "text/x-python",
   "name": "python",
   "nbconvert_exporter": "python",
   "pygments_lexer": "ipython3",
   "version": "3.7.3"
  }
 },
 "nbformat": 4,
 "nbformat_minor": 2
}
